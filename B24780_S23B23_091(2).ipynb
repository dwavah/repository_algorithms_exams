{
  "nbformat": 4,
  "nbformat_minor": 0,
  "metadata": {
    "colab": {
      "provenance": []
    },
    "kernelspec": {
      "name": "python3",
      "display_name": "Python 3"
    },
    "language_info": {
      "name": "python"
    }
  },
  "cells": [
    {
      "cell_type": "markdown",
      "source": [
        "WAVAMUNNO DANIEL L\n",
        "S23B23/091\n",
        "B24780\n",
        "DAA FINAL PAPER"
      ],
      "metadata": {
        "id": "le7q6TrupZRa"
      }
    },
    {
      "cell_type": "markdown",
      "source": [
        "Quesion 3 (Social Network using Breadth First Search)"
      ],
      "metadata": {
        "id": "mGFrdjpfiDu0"
      }
    },
    {
      "cell_type": "code",
      "source": [
        "from collections import defaultdict, deque\n",
        "import networkx as nx\n",
        "import matplotlib.pyplot as plt\n",
        "\n",
        "#create a network(graph)\n",
        "class Graph:\n",
        "    def __init__(self):\n",
        "        self.graph = defaultdict(list)\n",
        "\n",
        "    #adding edges\n",
        "    def add_edge(self, u, v):\n",
        "        self.graph[u].append(v)\n",
        "        self.graph[v].append(u)\n",
        "\n",
        "\n",
        "    #Traversing the graph with Depth-First Search\n",
        "    def bfs(self, start):\n",
        "        visited = {start}\n",
        "        queue = deque([(start, 0)])\n",
        "        while queue:\n",
        "            node, level = queue.popleft()\n",
        "            for neighbor in self.graph[node]:\n",
        "                if neighbor not in visited:\n",
        "                    visited.add(neighbor)\n",
        "                    queue.append((neighbor, level + 1))\n",
        "        return visited\n",
        "\n",
        "    def mutualf(self, user1, user2):\n",
        "        friends_user1 = self.bfs(user1)\n",
        "        friends_user2 = self.bfs(user2)\n",
        "        mutual_friends = friends_user1.intersection(friends_user2)\n",
        "        mutual_friends.remove(user1)\n",
        "        mutual_friends.remove(user2)\n",
        "        return mutual_friends\n",
        "\n",
        "social = Graph()\n",
        "social.add_edge('Peace', 'Mutoni')\n",
        "social.add_edge('Peace', 'Innocent')\n",
        "social.add_edge('Mutoni', 'Kato')\n",
        "social.add_edge('Innocent', 'Isaac')\n",
        "social.add_edge('Isaac', 'Ian')\n",
        "social.add_edge('Mutoni', 'Darren')\n",
        "\n",
        "user1 = 'Mutoni'\n",
        "user2 = 'Peace'\n",
        "mutualf = social.mutualf(user1, user2)\n",
        "print(f\"The mutual friends between {user1} and {user2} are {mutualf}\")\n",
        "\n"
      ],
      "metadata": {
        "colab": {
          "base_uri": "https://localhost:8080/"
        },
        "id": "9gKcsL76iEGy",
        "outputId": "4615e422-5408-4651-a90e-6b47ec48f064"
      },
      "execution_count": 36,
      "outputs": [
        {
          "output_type": "stream",
          "name": "stdout",
          "text": [
            "The mutual friends between Mutoni and Peace are {'Kato', 'Ian', 'Innocent', 'Darren', 'Isaac'}\n"
          ]
        }
      ]
    }
  ]
}